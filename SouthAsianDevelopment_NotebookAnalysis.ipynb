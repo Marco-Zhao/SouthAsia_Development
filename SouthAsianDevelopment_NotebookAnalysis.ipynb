{
 "cells": [
  {
   "cell_type": "markdown",
   "id": "e5042076-5c39-4edc-a33c-59228d343214",
   "metadata": {},
   "source": [
    "# Our objectives:"
   ]
  },
  {
   "cell_type": "markdown",
   "id": "0aee2eec-aa8e-49ff-95c8-0f41f5c23d85",
   "metadata": {},
   "source": [
    "## Libraries and Dataset"
   ]
  },
  {
   "cell_type": "code",
   "execution_count": 56,
   "id": "6aa475fe-f915-4be8-b66c-ab65584e9da6",
   "metadata": {},
   "outputs": [
    {
     "name": "stdout",
     "output_type": "stream",
     "text": [
      "Imported all libraries\n"
     ]
    }
   ],
   "source": [
    "import pandas as pd\n",
    "import numpy as np\n",
    "import seaborn as sns\n",
    "import matplotlib.pyplot as plt\n",
    "\n",
    "print('Imported all libraries')"
   ]
  },
  {
   "cell_type": "code",
   "execution_count": 4,
   "id": "0a5b8d83-29dd-49b3-95d5-82418d7d3b0b",
   "metadata": {},
   "outputs": [
    {
     "name": "stdout",
     "output_type": "stream",
     "text": [
      "Dataset csv name: South_Asian_DevData.csv\n"
     ]
    }
   ],
   "source": [
    "dataset_path = 'South_Asian_DevData.csv'\n",
    "development_dataset = pd.read_csv(dataset_path)\n",
    "print('Dataset csv name:', dataset_path)"
   ]
  },
  {
   "cell_type": "markdown",
   "id": "8d82b08f-1f26-467d-b4ea-9cc25d524552",
   "metadata": {},
   "source": [
    "# Let's see first how our database is structured"
   ]
  },
  {
   "cell_type": "code",
   "execution_count": 6,
   "id": "70079c45-82f7-4b54-9321-7683b440dba2",
   "metadata": {},
   "outputs": [
    {
     "data": {
      "text/html": [
       "<div>\n",
       "<style scoped>\n",
       "    .dataframe tbody tr th:only-of-type {\n",
       "        vertical-align: middle;\n",
       "    }\n",
       "\n",
       "    .dataframe tbody tr th {\n",
       "        vertical-align: top;\n",
       "    }\n",
       "\n",
       "    .dataframe thead th {\n",
       "        text-align: right;\n",
       "    }\n",
       "</style>\n",
       "<table border=\"1\" class=\"dataframe\">\n",
       "  <thead>\n",
       "    <tr style=\"text-align: right;\">\n",
       "      <th></th>\n",
       "      <th>Country</th>\n",
       "      <th>Year</th>\n",
       "      <th>GDP (current US$)</th>\n",
       "      <th>GDP growth (annual %)</th>\n",
       "      <th>GDP per capita (current US$)</th>\n",
       "      <th>Unemployment, total (% of total labor force) (modeled ILO estimate)</th>\n",
       "      <th>Inflation, consumer prices (annual %)</th>\n",
       "      <th>Foreign direct investment, net inflows (% of GDP)</th>\n",
       "      <th>Trade (% of GDP)</th>\n",
       "      <th>Gini index</th>\n",
       "      <th>...</th>\n",
       "      <th>Renewable energy consumption (% of total final energy consumption)</th>\n",
       "      <th>Forest area (% of land area)</th>\n",
       "      <th>Control of Corruption: Percentile Rank</th>\n",
       "      <th>Political Stability and Absence of Violence/Terrorism: Estimate</th>\n",
       "      <th>Regulatory Quality: Estimate</th>\n",
       "      <th>Rule of Law: Estimate</th>\n",
       "      <th>Voice and Accountability: Estimate</th>\n",
       "      <th>Individuals using the Internet (% of population)</th>\n",
       "      <th>Research and development expenditure (% of GDP)</th>\n",
       "      <th>High-technology exports (% of manufactured exports)</th>\n",
       "    </tr>\n",
       "  </thead>\n",
       "  <tbody>\n",
       "    <tr>\n",
       "      <th>0</th>\n",
       "      <td>Afghanistan</td>\n",
       "      <td>2000</td>\n",
       "      <td>3.521418e+09</td>\n",
       "      <td>NaN</td>\n",
       "      <td>180.188369</td>\n",
       "      <td>7.955</td>\n",
       "      <td>NaN</td>\n",
       "      <td>0.004828</td>\n",
       "      <td>NaN</td>\n",
       "      <td>NaN</td>\n",
       "      <td>...</td>\n",
       "      <td>45</td>\n",
       "      <td>1.852781994</td>\n",
       "      <td>4.787233829</td>\n",
       "      <td>-2.438968897</td>\n",
       "      <td>-2.080252647</td>\n",
       "      <td>-1.780660748</td>\n",
       "      <td>-2.031417131</td>\n",
       "      <td>..</td>\n",
       "      <td>..</td>\n",
       "      <td>..</td>\n",
       "    </tr>\n",
       "    <tr>\n",
       "      <th>1</th>\n",
       "      <td>Afghanistan</td>\n",
       "      <td>2001</td>\n",
       "      <td>2.813572e+09</td>\n",
       "      <td>-9.431974</td>\n",
       "      <td>142.903364</td>\n",
       "      <td>7.958</td>\n",
       "      <td>NaN</td>\n",
       "      <td>0.024169</td>\n",
       "      <td>NaN</td>\n",
       "      <td>NaN</td>\n",
       "      <td>...</td>\n",
       "      <td>45.6</td>\n",
       "      <td>1.852781994</td>\n",
       "      <td>..</td>\n",
       "      <td>..</td>\n",
       "      <td>..</td>\n",
       "      <td>..</td>\n",
       "      <td>..</td>\n",
       "      <td>0.00472257</td>\n",
       "      <td>..</td>\n",
       "      <td>..</td>\n",
       "    </tr>\n",
       "    <tr>\n",
       "      <th>2</th>\n",
       "      <td>Afghanistan</td>\n",
       "      <td>2002</td>\n",
       "      <td>3.825701e+09</td>\n",
       "      <td>28.600001</td>\n",
       "      <td>182.174038</td>\n",
       "      <td>7.939</td>\n",
       "      <td>NaN</td>\n",
       "      <td>1.306950</td>\n",
       "      <td>NaN</td>\n",
       "      <td>NaN</td>\n",
       "      <td>...</td>\n",
       "      <td>37.8</td>\n",
       "      <td>1.852781994</td>\n",
       "      <td>4.761904716</td>\n",
       "      <td>-2.035033703</td>\n",
       "      <td>-1.81154573</td>\n",
       "      <td>-1.673473239</td>\n",
       "      <td>-1.433421016</td>\n",
       "      <td>0.0045614</td>\n",
       "      <td>..</td>\n",
       "      <td>..</td>\n",
       "    </tr>\n",
       "    <tr>\n",
       "      <th>3</th>\n",
       "      <td>Afghanistan</td>\n",
       "      <td>2003</td>\n",
       "      <td>4.520947e+09</td>\n",
       "      <td>8.832278</td>\n",
       "      <td>199.643226</td>\n",
       "      <td>7.922</td>\n",
       "      <td>NaN</td>\n",
       "      <td>1.278493</td>\n",
       "      <td>NaN</td>\n",
       "      <td>NaN</td>\n",
       "      <td>...</td>\n",
       "      <td>36.7</td>\n",
       "      <td>1.852781994</td>\n",
       "      <td>4.761904716</td>\n",
       "      <td>-2.198372364</td>\n",
       "      <td>-1.463107824</td>\n",
       "      <td>-1.5582937</td>\n",
       "      <td>-1.177571177</td>\n",
       "      <td>0.0878913</td>\n",
       "      <td>..</td>\n",
       "      <td>..</td>\n",
       "    </tr>\n",
       "    <tr>\n",
       "      <th>4</th>\n",
       "      <td>Afghanistan</td>\n",
       "      <td>2004</td>\n",
       "      <td>5.224897e+09</td>\n",
       "      <td>1.414118</td>\n",
       "      <td>221.830531</td>\n",
       "      <td>7.914</td>\n",
       "      <td>NaN</td>\n",
       "      <td>3.577104</td>\n",
       "      <td>NaN</td>\n",
       "      <td>NaN</td>\n",
       "      <td>...</td>\n",
       "      <td>44.2</td>\n",
       "      <td>1.852781994</td>\n",
       "      <td>6.403940678</td>\n",
       "      <td>-2.295682192</td>\n",
       "      <td>-1.511548996</td>\n",
       "      <td>-1.693925261</td>\n",
       "      <td>-1.203033924</td>\n",
       "      <td>0.105809</td>\n",
       "      <td>..</td>\n",
       "      <td>..</td>\n",
       "    </tr>\n",
       "  </tbody>\n",
       "</table>\n",
       "<p>5 rows × 33 columns</p>\n",
       "</div>"
      ],
      "text/plain": [
       "       Country  Year  GDP (current US$)  GDP growth (annual %)  \\\n",
       "0  Afghanistan  2000       3.521418e+09                    NaN   \n",
       "1  Afghanistan  2001       2.813572e+09              -9.431974   \n",
       "2  Afghanistan  2002       3.825701e+09              28.600001   \n",
       "3  Afghanistan  2003       4.520947e+09               8.832278   \n",
       "4  Afghanistan  2004       5.224897e+09               1.414118   \n",
       "\n",
       "   GDP per capita (current US$)  \\\n",
       "0                    180.188369   \n",
       "1                    142.903364   \n",
       "2                    182.174038   \n",
       "3                    199.643226   \n",
       "4                    221.830531   \n",
       "\n",
       "   Unemployment, total (% of total labor force) (modeled ILO estimate)  \\\n",
       "0                                              7.955                     \n",
       "1                                              7.958                     \n",
       "2                                              7.939                     \n",
       "3                                              7.922                     \n",
       "4                                              7.914                     \n",
       "\n",
       "   Inflation, consumer prices (annual %)  \\\n",
       "0                                    NaN   \n",
       "1                                    NaN   \n",
       "2                                    NaN   \n",
       "3                                    NaN   \n",
       "4                                    NaN   \n",
       "\n",
       "   Foreign direct investment, net inflows (% of GDP)  Trade (% of GDP)  \\\n",
       "0                                           0.004828               NaN   \n",
       "1                                           0.024169               NaN   \n",
       "2                                           1.306950               NaN   \n",
       "3                                           1.278493               NaN   \n",
       "4                                           3.577104               NaN   \n",
       "\n",
       "   Gini index  ...  \\\n",
       "0         NaN  ...   \n",
       "1         NaN  ...   \n",
       "2         NaN  ...   \n",
       "3         NaN  ...   \n",
       "4         NaN  ...   \n",
       "\n",
       "   Renewable energy consumption (% of total final energy consumption)  \\\n",
       "0                                                 45                    \n",
       "1                                               45.6                    \n",
       "2                                               37.8                    \n",
       "3                                               36.7                    \n",
       "4                                               44.2                    \n",
       "\n",
       "   Forest area (% of land area) Control of Corruption: Percentile Rank  \\\n",
       "0                   1.852781994                            4.787233829   \n",
       "1                   1.852781994                                     ..   \n",
       "2                   1.852781994                            4.761904716   \n",
       "3                   1.852781994                            4.761904716   \n",
       "4                   1.852781994                            6.403940678   \n",
       "\n",
       "  Political Stability and Absence of Violence/Terrorism: Estimate  \\\n",
       "0                                       -2.438968897                \n",
       "1                                                 ..                \n",
       "2                                       -2.035033703                \n",
       "3                                       -2.198372364                \n",
       "4                                       -2.295682192                \n",
       "\n",
       "  Regulatory Quality: Estimate Rule of Law: Estimate  \\\n",
       "0                 -2.080252647          -1.780660748   \n",
       "1                           ..                    ..   \n",
       "2                  -1.81154573          -1.673473239   \n",
       "3                 -1.463107824            -1.5582937   \n",
       "4                 -1.511548996          -1.693925261   \n",
       "\n",
       "  Voice and Accountability: Estimate  \\\n",
       "0                       -2.031417131   \n",
       "1                                 ..   \n",
       "2                       -1.433421016   \n",
       "3                       -1.177571177   \n",
       "4                       -1.203033924   \n",
       "\n",
       "   Individuals using the Internet (% of population)  \\\n",
       "0                                                ..   \n",
       "1                                        0.00472257   \n",
       "2                                         0.0045614   \n",
       "3                                         0.0878913   \n",
       "4                                          0.105809   \n",
       "\n",
       "  Research and development expenditure (% of GDP)  \\\n",
       "0                                              ..   \n",
       "1                                              ..   \n",
       "2                                              ..   \n",
       "3                                              ..   \n",
       "4                                              ..   \n",
       "\n",
       "  High-technology exports (% of manufactured exports)  \n",
       "0                                                 ..   \n",
       "1                                                 ..   \n",
       "2                                                 ..   \n",
       "3                                                 ..   \n",
       "4                                                 ..   \n",
       "\n",
       "[5 rows x 33 columns]"
      ]
     },
     "execution_count": 6,
     "metadata": {},
     "output_type": "execute_result"
    }
   ],
   "source": [
    "development_dataset.head()"
   ]
  },
  {
   "cell_type": "markdown",
   "id": "9a181395-8d78-4909-8a30-734ce369f75f",
   "metadata": {},
   "source": [
    "### Which countries are represented?"
   ]
  },
  {
   "cell_type": "code",
   "execution_count": 8,
   "id": "789868e1-220d-4bd9-8665-b880725b7d4a",
   "metadata": {},
   "outputs": [
    {
     "data": {
      "text/plain": [
       "array(['Afghanistan', 'Bhutan', 'Bangladesh', 'India', 'Maldives',\n",
       "       'Sri Lanka', 'Nepal', 'Pakistan'], dtype=object)"
      ]
     },
     "execution_count": 8,
     "metadata": {},
     "output_type": "execute_result"
    }
   ],
   "source": [
    "countries_list = development_dataset['Country'].unique()\n",
    "countries_list"
   ]
  },
  {
   "cell_type": "markdown",
   "id": "8b57910c-ffb1-43b2-866f-182625c205bf",
   "metadata": {},
   "source": [
    "### Our database should be mostly numbers, we should check the dtypes"
   ]
  },
  {
   "cell_type": "code",
   "execution_count": 10,
   "id": "7995da06-237c-4ce2-851c-e73adfca9055",
   "metadata": {},
   "outputs": [
    {
     "data": {
      "text/plain": [
       "Country                                                                        object\n",
       "Year                                                                            int64\n",
       "GDP (current US$)                                                             float64\n",
       "GDP growth (annual %)                                                         float64\n",
       "GDP per capita (current US$)                                                  float64\n",
       "Unemployment, total (% of total labor force) (modeled ILO estimate)           float64\n",
       "Inflation, consumer prices (annual %)                                         float64\n",
       "Foreign direct investment, net inflows (% of GDP)                             float64\n",
       "Trade (% of GDP)                                                              float64\n",
       "Gini index                                                                    float64\n",
       "Population, total                                                               int64\n",
       "Population growth (annual %)                                                  float64\n",
       "Poverty headcount ratio at $2.15 a day (2017 PPP) (% of population)            object\n",
       "Life expectancy at birth, total (years)                                        object\n",
       "Mortality rate, infant (per 1,000 live births)                                 object\n",
       "Literacy rate, adult total (% of people ages 15 and above)                     object\n",
       "School enrollment, primary (% gross)                                           object\n",
       "Urban population (% of total population)                                      float64\n",
       "Access to electricity (% of population)                                        object\n",
       "People using at least basic drinking water services (% of population)          object\n",
       "People using at least basic sanitation services (% of population)              object\n",
       "Carbon dioxide (CO2) emissions excluding LULUCF per capita (t CO2e/capita)     object\n",
       "PM2.5 air pollution, mean annual exposure (micrograms per cubic meter)         object\n",
       "Renewable energy consumption (% of total final energy consumption)             object\n",
       "Forest area (% of land area)                                                   object\n",
       "Control of Corruption: Percentile Rank                                         object\n",
       "Political Stability and Absence of Violence/Terrorism: Estimate                object\n",
       "Regulatory Quality: Estimate                                                   object\n",
       "Rule of Law: Estimate                                                          object\n",
       "Voice and Accountability: Estimate                                             object\n",
       "Individuals using the Internet (% of population)                               object\n",
       "Research and development expenditure (% of GDP)                                object\n",
       "High-technology exports (% of manufactured exports)                            object\n",
       "dtype: object"
      ]
     },
     "execution_count": 10,
     "metadata": {},
     "output_type": "execute_result"
    }
   ],
   "source": [
    "development_dataset.dtypes"
   ]
  },
  {
   "cell_type": "markdown",
   "id": "5a16c5f2-ff51-4ded-8dbb-5ca3a9601305",
   "metadata": {},
   "source": [
    "### Percentage of values missing, also e should be careful as we have missing values simbolized both as the default 'NaN' and '..'\n",
    "Let's use numpy and replace all '..' with NaNs"
   ]
  },
  {
   "cell_type": "code",
   "execution_count": 12,
   "id": "643f6cf3-2ead-4c1f-aa51-5c7732dc9add",
   "metadata": {},
   "outputs": [
    {
     "name": "stdout",
     "output_type": "stream",
     "text": [
      "15.61 %\n"
     ]
    }
   ],
   "source": [
    "development_dataset.replace('..', np.nan, inplace=True)\n",
    "missing_count = development_dataset.isnull().sum().sum()\n",
    "total_cells = np.product(development_dataset.shape)\n",
    "total_missing_cells = (missing_count / total_cells) * 100\n",
    "print('%.2f' %total_missing_cells, '%')"
   ]
  },
  {
   "cell_type": "markdown",
   "id": "81e4257b-1f9d-46e5-bb78-64243ec1b05f",
   "metadata": {},
   "source": [
    "## Our dataset seems to be in need of cleaning and preprocessing\n",
    "    1. We should convert all objects in floats except for [Country]\n",
    "    2. Handle all missing values which amount to almost 16% of our database"
   ]
  },
  {
   "cell_type": "markdown",
   "id": "557b43cc-1e32-478f-8779-844921d4e40a",
   "metadata": {},
   "source": [
    "### 1. We should convert all objects in floats except for [Country]"
   ]
  },
  {
   "cell_type": "code",
   "execution_count": 15,
   "id": "4c01d549-7045-4248-b0f6-4152622ddaf6",
   "metadata": {},
   "outputs": [
    {
     "data": {
      "text/plain": [
       "Country                                                                        object\n",
       "Year                                                                            int64\n",
       "GDP (current US$)                                                             float64\n",
       "GDP growth (annual %)                                                         float64\n",
       "GDP per capita (current US$)                                                  float64\n",
       "Unemployment, total (% of total labor force) (modeled ILO estimate)           float64\n",
       "Inflation, consumer prices (annual %)                                         float64\n",
       "Foreign direct investment, net inflows (% of GDP)                             float64\n",
       "Trade (% of GDP)                                                              float64\n",
       "Gini index                                                                    float64\n",
       "Population, total                                                               int64\n",
       "Population growth (annual %)                                                  float64\n",
       "Poverty headcount ratio at $2.15 a day (2017 PPP) (% of population)           float64\n",
       "Life expectancy at birth, total (years)                                       float64\n",
       "Mortality rate, infant (per 1,000 live births)                                float64\n",
       "Literacy rate, adult total (% of people ages 15 and above)                    float64\n",
       "School enrollment, primary (% gross)                                          float64\n",
       "Urban population (% of total population)                                      float64\n",
       "Access to electricity (% of population)                                       float64\n",
       "People using at least basic drinking water services (% of population)         float64\n",
       "People using at least basic sanitation services (% of population)             float64\n",
       "Carbon dioxide (CO2) emissions excluding LULUCF per capita (t CO2e/capita)    float64\n",
       "PM2.5 air pollution, mean annual exposure (micrograms per cubic meter)        float64\n",
       "Renewable energy consumption (% of total final energy consumption)            float64\n",
       "Forest area (% of land area)                                                  float64\n",
       "Control of Corruption: Percentile Rank                                        float64\n",
       "Political Stability and Absence of Violence/Terrorism: Estimate               float64\n",
       "Regulatory Quality: Estimate                                                  float64\n",
       "Rule of Law: Estimate                                                         float64\n",
       "Voice and Accountability: Estimate                                            float64\n",
       "Individuals using the Internet (% of population)                              float64\n",
       "Research and development expenditure (% of GDP)                               float64\n",
       "High-technology exports (% of manufactured exports)                           float64\n",
       "dtype: object"
      ]
     },
     "execution_count": 15,
     "metadata": {},
     "output_type": "execute_result"
    }
   ],
   "source": [
    "for column in development_dataset.columns[1:]:\n",
    "    development_dataset[column] = pd.to_numeric(development_dataset[column], errors='raise')\n",
    "development_dataset.dtypes"
   ]
  },
  {
   "cell_type": "markdown",
   "id": "af0a4135-bee8-4296-ac26-ab01792a4de1",
   "metadata": {},
   "source": [
    "### 2. Let's see where are our errors and to either average them or leave them"
   ]
  },
  {
   "cell_type": "code",
   "execution_count": 17,
   "id": "37b4027f-dff8-40f1-b645-88d06eafad13",
   "metadata": {},
   "outputs": [
    {
     "data": {
      "text/plain": [
       "Country                                                                         0\n",
       "Year                                                                            0\n",
       "GDP (current US$)                                                               2\n",
       "GDP growth (annual %)                                                           3\n",
       "GDP per capita (current US$)                                                    2\n",
       "Unemployment, total (% of total labor force) (modeled ILO estimate)             0\n",
       "Inflation, consumer prices (annual %)                                           9\n",
       "Foreign direct investment, net inflows (% of GDP)                               5\n",
       "Trade (% of GDP)                                                               51\n",
       "Gini index                                                                    150\n",
       "Population, total                                                               0\n",
       "Population growth (annual %)                                                    0\n",
       "Poverty headcount ratio at $2.15 a day (2017 PPP) (% of population)           150\n",
       "Life expectancy at birth, total (years)                                         8\n",
       "Mortality rate, infant (per 1,000 live births)                                  8\n",
       "Literacy rate, adult total (% of people ages 15 and above)                    131\n",
       "School enrollment, primary (% gross)                                           26\n",
       "Urban population (% of total population)                                        0\n",
       "Access to electricity (% of population)                                         8\n",
       "People using at least basic drinking water services (% of population)           8\n",
       "People using at least basic sanitation services (% of population)               8\n",
       "Carbon dioxide (CO2) emissions excluding LULUCF per capita (t CO2e/capita)      8\n",
       "PM2.5 air pollution, mean annual exposure (micrograms per cubic meter)         24\n",
       "Renewable energy consumption (% of total final energy consumption)             13\n",
       "Forest area (% of land area)                                                   16\n",
       "Control of Corruption: Percentile Rank                                         16\n",
       "Political Stability and Absence of Violence/Terrorism: Estimate                16\n",
       "Regulatory Quality: Estimate                                                   16\n",
       "Rule of Law: Estimate                                                          16\n",
       "Voice and Accountability: Estimate                                             16\n",
       "Individuals using the Internet (% of population)                               19\n",
       "Research and development expenditure (% of GDP)                               144\n",
       "High-technology exports (% of manufactured exports)                           116\n",
       "dtype: int64"
      ]
     },
     "execution_count": 17,
     "metadata": {},
     "output_type": "execute_result"
    }
   ],
   "source": [
    "development_dataset.isnull().sum()"
   ]
  },
  {
   "cell_type": "markdown",
   "id": "7a77803d-31f2-4e47-8893-29c131b263ed",
   "metadata": {},
   "source": [
    "### We might find more insight in a per-country basis\n",
    "    1. For GDP we might be able to average between year before and after\n",
    "    2. Trade (%) and High-technology export are very important factors that we might not be able to use in our analysis\n",
    "    3. Gini index, Poverty headcount is very important for wealth disparity\n",
    "    4. We might not be able to analyze education, research expenditure effects on South Asia developmental growth\n",
    "    5. Missing values in political areas\n",
    "    6. Green policies with development"
   ]
  },
  {
   "cell_type": "code",
   "execution_count": 50,
   "id": "10dc6fe1-544f-4107-a2a0-9ac9f3fc6ca7",
   "metadata": {},
   "outputs": [],
   "source": [
    "#development_dataset.groupby(['Country'])['Gini index'].max()"
   ]
  },
  {
   "cell_type": "code",
   "execution_count": 70,
   "id": "af3104e3-d2ab-4f50-9a86-d2104b1643b6",
   "metadata": {},
   "outputs": [
    {
     "data": {
      "text/plain": [
       "Text(0.5, 1.0, 'Prova')"
      ]
     },
     "execution_count": 70,
     "metadata": {},
     "output_type": "execute_result"
    },
    {
     "data": {
      "image/png": "[encoded data removed]",
      "text/plain": [
       "<Figure size 2000x2000 with 1 Axes>"
      ]
     },
     "metadata": {},
     "output_type": "display_data"
    }
   ],
   "source": [
    "plt.figure(figsize=(20,20))\n",
    "plt.title('Prova')\n",
    "#sns.heatmap(x=development_dataset.groupby(['Country']).index, y=development_dataset['GDP (current US$)'])"
   ]
  },
  {
   "cell_type": "code",
   "execution_count": null,
   "id": "07dc64e4-3693-49bd-b350-9f1dec651b1c",
   "metadata": {},
   "outputs": [],
   "source": []
  }
 ],
 "metadata": {
  "kernelspec": {
   "display_name": "Python 3 (ipykernel)",
   "language": "python",
   "name": "python3"
  },
  "language_info": {
   "codemirror_mode": {
    "name": "ipython",
    "version": 3
   },
   "file_extension": ".py",
   "mimetype": "text/x-python",
   "name": "python",
   "nbconvert_exporter": "python",
   "pygments_lexer": "ipython3",
   "version": "3.12.4"
  }
 },
 "nbformat": 4,
 "nbformat_minor": 5
}
